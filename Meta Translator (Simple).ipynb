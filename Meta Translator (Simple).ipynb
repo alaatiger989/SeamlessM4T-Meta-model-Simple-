{
 "cells": [
  {
   "cell_type": "code",
   "execution_count": 7,
   "id": "ba95c8fc-6850-4c93-abb3-d7a79e75f917",
   "metadata": {},
   "outputs": [],
   "source": [
    "#!pip install git+https://github.com/huggingface/transformers.git sentencepiece"
   ]
  },
  {
   "cell_type": "code",
   "execution_count": 6,
   "id": "07ccaf43-fb1e-4df9-b375-8f86b9f1ce99",
   "metadata": {},
   "outputs": [],
   "source": [
    "#!pip install soundfile"
   ]
  },
  {
   "cell_type": "code",
   "execution_count": 1,
   "id": "5c0739a8-a9e9-4f7c-8d04-c5a0dbb34493",
   "metadata": {},
   "outputs": [],
   "source": [
    "import torchaudio\n",
    "import torch"
   ]
  },
  {
   "cell_type": "code",
   "execution_count": 2,
   "id": "2dc558e7-75f6-474e-91a3-7bd4d5a14ab7",
   "metadata": {},
   "outputs": [],
   "source": [
    "arabic_audio_file = 'C:/Users/Alaa AI/Python Projects/Meta Translator/myspeech.wav'\n",
    "seamlessm4t_model = 'unity_on_device.ptl'"
   ]
  },
  {
   "cell_type": "code",
   "execution_count": 3,
   "id": "d4659835-c5f3-4b26-b3ff-552932b9c26d",
   "metadata": {},
   "outputs": [],
   "source": [
    "s2st_model = torch.jit.load(seamlessm4t_model)"
   ]
  },
  {
   "cell_type": "code",
   "execution_count": 4,
   "id": "2ca72e75-d186-4dd8-ba17-89df5bbc6372",
   "metadata": {},
   "outputs": [
    {
     "name": "stderr",
     "output_type": "stream",
     "text": [
      "C:\\Users\\Alaa AI\\AppData\\Local\\Temp\\ipykernel_15556\\1190122611.py:1: UserWarning: torchaudio._backend.get_audio_backend has been deprecated. With dispatcher enabled, this function is no-op. You can remove the function call.\n",
      "  str(torchaudio.get_audio_backend())\n"
     ]
    },
    {
     "data": {
      "text/plain": [
       "'None'"
      ]
     },
     "execution_count": 4,
     "metadata": {},
     "output_type": "execute_result"
    }
   ],
   "source": [
    "str(torchaudio.get_audio_backend())"
   ]
  },
  {
   "cell_type": "code",
   "execution_count": 5,
   "id": "f1dc6567-8ca4-4b21-b19d-9ccf898091a9",
   "metadata": {},
   "outputs": [],
   "source": [
    "audio_input, _ = torchaudio.load(arabic_audio_file) # Load waveform using torchaudio"
   ]
  },
  {
   "cell_type": "code",
   "execution_count": 16,
   "id": "7baee6ba-bdc3-44a1-b9b5-d43002c86a8c",
   "metadata": {},
   "outputs": [],
   "source": [
    "metadata = torchaudio.info(arabic_audio_file)"
   ]
  },
  {
   "cell_type": "code",
   "execution_count": 17,
   "id": "dbbacc92-2f96-4a2d-b2ea-db0d2fcf42b4",
   "metadata": {},
   "outputs": [
    {
     "data": {
      "text/plain": [
       "<torchaudio._backend.common.AudioMetaData at 0x1bb1a34dc10>"
      ]
     },
     "execution_count": 17,
     "metadata": {},
     "output_type": "execute_result"
    }
   ],
   "source": [
    "metadata"
   ]
  },
  {
   "cell_type": "code",
   "execution_count": 8,
   "id": "754bef95-a46a-446b-8361-86d6cf4d66c5",
   "metadata": {},
   "outputs": [],
   "source": [
    "with torch.no_grad():\n",
    "    text, units, waveform = s2st_model(audio_input, tgt_lang='eng') # S2ST model also returns waveform"
   ]
  },
  {
   "cell_type": "code",
   "execution_count": 9,
   "id": "0119cf2c-26d6-4bec-a2c0-936c916c1499",
   "metadata": {},
   "outputs": [
    {
     "name": "stdout",
     "output_type": "stream",
     "text": [
      "- What?\n"
     ]
    }
   ],
   "source": [
    "print(text)"
   ]
  },
  {
   "cell_type": "code",
   "execution_count": 24,
   "id": "114ee2c7-69bf-4155-9bcb-ee77f8b70635",
   "metadata": {},
   "outputs": [],
   "source": [
    "torchaudio.save(f\"result.wav\", waveform.unsqueeze(0), sample_rate=16000) # Save output waveform to local file"
   ]
  },
  {
   "cell_type": "code",
   "execution_count": null,
   "id": "e4070f58-1c61-4807-8e11-5bfcb0b471b4",
   "metadata": {},
   "outputs": [],
   "source": []
  }
 ],
 "metadata": {
  "kernelspec": {
   "display_name": "Python 3 (ipykernel)",
   "language": "python",
   "name": "python3"
  },
  "language_info": {
   "codemirror_mode": {
    "name": "ipython",
    "version": 3
   },
   "file_extension": ".py",
   "mimetype": "text/x-python",
   "name": "python",
   "nbconvert_exporter": "python",
   "pygments_lexer": "ipython3",
   "version": "3.11.5"
  }
 },
 "nbformat": 4,
 "nbformat_minor": 5
}
